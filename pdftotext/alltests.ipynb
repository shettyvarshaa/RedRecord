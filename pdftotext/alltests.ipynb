{
 "cells": [
  {
   "cell_type": "markdown",
   "id": "49a76ff9-a7be-4a96-9e83-9da8cd7d902f",
   "metadata": {
    "tags": []
   },
   "source": [
    "### Download the package using pip\n",
    "\n",
    "`pip install ocr-nanonets-wrapper`"
   ]
  },
  {
   "cell_type": "code",
   "execution_count": 1,
   "id": "97a38443-fb3d-45c1-9fc7-cdf5e1e921b3",
   "metadata": {},
   "outputs": [],
   "source": [
    "from nanonets import NANONETSOCR\n",
    "model = NANONETSOCR()"
   ]
  },
  {
   "cell_type": "markdown",
   "id": "19fdd536-b738-4f2f-a2b2-08f527ade30a",
   "metadata": {},
   "source": [
    "### Authenticate"
   ]
  },
  {
   "cell_type": "code",
   "execution_count": 3,
   "id": "f077ce79-8274-4ef8-8f02-8f4ce98603af",
   "metadata": {},
   "outputs": [],
   "source": [
    "model.set_token('0bd728c2-2506-11ef-b795-d6d3c2ad6cc3')"
   ]
  },
  {
   "cell_type": "markdown",
   "id": "93a8b2dc-0679-4424-9c50-52ebc0eef651",
   "metadata": {},
   "source": [
    "### PDF / Image to TXT"
   ]
  },
  {
   "cell_type": "code",
   "execution_count": 9,
   "id": "8b7d4d6a-8e12-464a-93e8-d8a2a2bde297",
   "metadata": {},
   "outputs": [],
   "source": [
    "model.convert_to_txt('test.png', output_file_name='output.txt')"
   ]
  },
  {
   "cell_type": "code",
   "execution_count": 6,
   "id": "1ff4aa99-eef6-4d8d-8942-dc8744a0c2fd",
   "metadata": {},
   "outputs": [],
   "source": [
    "model.convert_to_txt('test.png', formatting='lines', output_file_name='output.txt')"
   ]
  },
  {
   "cell_type": "code",
   "execution_count": 7,
   "id": "fea3f75a-ae14-4a02-88c2-a608eae54494",
   "metadata": {},
   "outputs": [],
   "source": [
    "model.convert_to_txt('test.png', formatting='none', output_file_name='output.txt')"
   ]
  }
 ],
 "metadata": {
  "kernelspec": {
   "display_name": "Python 3 (ipykernel)",
   "language": "python",
   "name": "python3"
  },
  "language_info": {
   "codemirror_mode": {
    "name": "ipython",
    "version": 3
   },
   "file_extension": ".py",
   "mimetype": "text/x-python",
   "name": "python",
   "nbconvert_exporter": "python",
   "pygments_lexer": "ipython3",
   "version": "3.10.8"
  }
 },
 "nbformat": 4,
 "nbformat_minor": 5
}
